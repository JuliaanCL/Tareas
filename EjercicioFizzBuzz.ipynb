{
  "nbformat": 4,
  "nbformat_minor": 0,
  "metadata": {
    "colab": {
      "name": "EjercicioFizzBuzz.ipynb",
      "provenance": [],
      "authorship_tag": "ABX9TyPgZrbxLZa/u/oW1czPotAo",
      "include_colab_link": true
    },
    "kernelspec": {
      "name": "python3",
      "display_name": "Python 3"
    },
    "language_info": {
      "name": "python"
    }
  },
  "cells": [
    {
      "cell_type": "markdown",
      "metadata": {
        "id": "view-in-github",
        "colab_type": "text"
      },
      "source": [
        "<a href=\"https://colab.research.google.com/github/JuliaanCL/Tareas/blob/main/EjercicioFizzBuzz.ipynb\" target=\"_parent\"><img src=\"https://colab.research.google.com/assets/colab-badge.svg\" alt=\"Open In Colab\"/></a>"
      ]
    },
    {
      "cell_type": "markdown",
      "source": [
        "Ejercicio Fizz Buzz\n",
        "Fizz buzz es un juego de palabras grupal para enseñar a los niños la división [1]. Los jugadores se turnan para contar de forma incremental, reemplazando cualquier número divisible por tres con la palabra \"Fizz\" y cualquier número divisible por cinco con la palabra \"Buzz\".\n",
        "\n",
        "Un ejemplo del juego sería el siguiente:\n",
        "\n",
        "1, 2, Fizz, 4, Buzz, Fizz, 7, 8, Fizz, Buzz, 11, Fizz, 13, 14, Fizz Buzz, 16, 17, Fizz, 19, Buzz, Fizz, 22, 23, Fizz, Buzz, 26, Fizz, 28, 29, Fizz Buzz, 31, 32, Fizz, 34, Buzz, Fizz, ...\n",
        "\n",
        "Escribe un programa en Python que dados dos números de inicio y fin de una secuencia, recorra la secuencia y escriba el número o la cadena \"Fizz\", \"Buzz\" correspondiente.\n",
        "\n",
        "Por ejemplo. Si los números de entrada son 13 y 19, el programa deberá escribir:\n",
        "\n",
        "13, 14, Fizz Buzz,16,17,Fizz,19"
      ],
      "metadata": {
        "id": "SUh26ZYFUFdB"
      }
    },
    {
      "cell_type": "code",
      "source": [
        "#DECLARO MI INICIO Y MI FIN\n",
        "inicio=13\n",
        "fin=19\n",
        "#Declaro los numero a sustituir \n",
        "listaDivisora = {3:\"Fizz\" , 5:\"Buzz\"}\n",
        "\n",
        "for x in range(inicio,fin):                                #For para recorrer el rango de los enteros\n",
        "  dividido = False                                         #BAndera para conocer si se pudo dividir al menos una vez\n",
        "  texto = \"\"                                               #Texto de remplazo\n",
        "  for divisor in listaDivisora.keys():                      #Recorro la lista de los divisores para probar la divicion\n",
        "    if x % divisor == 0:\n",
        "      dividido = True\n",
        "      texto = texto + listaDivisora.get(divisor) + \" \"     # asigno el texto del divisor al texto a mostrar\n",
        "  #Si se dividi alguna vez muestro texto en lugar de numero\n",
        "  if dividido :\n",
        "    print(texto)\n",
        "  else:\n",
        "    print(x)\n"
      ],
      "metadata": {
        "colab": {
          "base_uri": "https://localhost:8080/"
        },
        "id": "Gp-Jmyx6UHpd",
        "outputId": "dac6d8d6-2517-46ee-f0a0-028aaf251180"
      },
      "execution_count": null,
      "outputs": [
        {
          "output_type": "stream",
          "name": "stdout",
          "text": [
            "13\n",
            "14\n",
            "Fizz Buzz \n",
            "16\n",
            "17\n",
            "Fizz \n"
          ]
        }
      ]
    }
  ]
}